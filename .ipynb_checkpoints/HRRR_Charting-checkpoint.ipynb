{
 "cells": [
  {
   "cell_type": "code",
   "execution_count": null,
   "id": "02a61754",
   "metadata": {},
   "outputs": [],
   "source": [
    "import cartopy\n",
    "import cartopy.crs as ccrs\n",
    "import matplotlib.pyplot as plt\n",
    "import matplotlib.ticker as mticker\n",
    "import numpy as np\n",
    "from siphon.catalog import get_latest_access_url\n",
    "from siphon.ncss import NCSS\n",
    "import xarray as xr\n",
    "import time\n",
    "\n",
    "class HRRRCast():\n",
    "    def __init__(self, lat, lon):\n",
    "        self.var = [\n",
    "                    'u-component_of_wind_height_above_ground',\n",
    "                    'v-component_of_wind_height_above_ground',\n",
    "                    'Temperature_height_above_ground',\n",
    "                    'Geopotential_height_surface',\n",
    "                    'Total_cloud_cover_entire_atmosphere',\n",
    "                    'Convective_available_potential_energy_surface',\n",
    "                    'Hourly_Maximum_of_Upward_Vertical_Velocity_in_the_lowest_400hPa_pressure_difference_layer_1_Hour_Maximum',\n",
    "                    'Surface_lifted_index_isobaric_layer',\n",
    "                    ]\n",
    "        self.north =lat+1\n",
    "        self.south =lat-1\n",
    "        self.east=lon+1\n",
    "        self.west=lon-1\n",
    "        self.latest_access_url = None\n",
    "        self.nc = None\n",
    "    \n",
    "    def update(self):\n",
    "        latest_access_url = get_latest_access_url(\"http://thredds.ucar.edu/thredds/catalog/grib/NCEP/HRRR/CONUS_2p5km/catalog.xml\", \"NetcdfSubset\")\n",
    "        if self.latest_access_url == latest_access_url:\n",
    "            return\n",
    "        self.latest_access_url = latest_access_url\n",
    "        ncss = NCSS(latest_access_url)\n",
    "        query = ncss.query()\n",
    "        query.accept('netcdf4')\n",
    "        query.all_times()\n",
    "        query.lonlat_box(north=self.north, south=self.south, east=self.east, west=self.west)\n",
    "        query.variables(frozenset(self.var))\n",
    "        open('temp.nc4', 'wb').write(ncss.get_data_raw(query))\n",
    "        self.nc = xr.load_dataset('temp.nc4')\n",
    "        \n",
    "    def forecast(self, var_index = -1, time_index = 1, barbs = True, streamlines = False, grid_size = 1):\n",
    "        nc = self.nc\n",
    "        var = self.var\n",
    "        nctime = 'time'\n",
    "        ncvar = nc[var[var_index]]\n",
    "        ncname = ncvar.name\n",
    "        \n",
    "        #km to meters conversion\n",
    "        x = ncvar.x.data*1000.\n",
    "        y = ncvar.y.data*1000.\n",
    "                 \n",
    "        grid = nc[ncvar.grid_mapping]\n",
    "        crs = ccrs.LambertConformal(\n",
    "                                    central_longitude=grid.longitude_of_central_meridian, \n",
    "                                    central_latitude=grid.latitude_of_projection_origin, \n",
    "                                    standard_parallels=(grid.latitude_of_projection_origin,grid.standard_parallel), \n",
    "                                    globe=ccrs.Globe(ellipse='sphere', semimajor_axis=grid.earth_radius)\n",
    "                                    )\n",
    "                 \n",
    "        fig = plt.figure(figsize=(10,10), dpi=200)\n",
    "        ax = plt.axes(projection=ccrs.PlateCarree())\n",
    "        \n",
    "        plt.xlim([self.west,self.east])\n",
    "        plt.ylim([self.south, self.north])\n",
    "        \n",
    "        mesh = ax.pcolorfast(x,y,ncvar[time_index,::].data.squeeze(), transform=crs, cmap='coolwarm')\n",
    "\n",
    "        if barbs: ax.barbs(x,y,nc[var[0]][time_index,0,::].data.squeeze(),nc[var[1]][time_index,0,::].data.squeeze(), transform=crs, length=3, linewidth=0.2)\n",
    "        if streamlines: ax.streamplot(x,y,nc[var[0]][time_index,0,::].data.squeeze(),nc[var[1]][time_index,0,::].data.squeeze(), transform=crs, density = 5, color='grey', arrowsize=0.5, linewidth= 0.5)\n",
    "            \n",
    "        ax.scatter(-105.300, 40.056, c='black', s=8)\n",
    "        ax.text(-105.300, 40.056, ' Wonderland', size=8)\n",
    "        ax.scatter(-105.245, 39.737, c='black', s=8)\n",
    "        ax.text(-105.245, 39.737, ' Lookout', size=8)\n",
    "        # ax.scatter(-105.282, 40.133, c='black', s=8)\n",
    "        # ax.text(-105.282, 40.13, ' Altona', size=8)\n",
    "        # ax.scatter(-105.271, 40.224, c='black', s=8)\n",
    "        # ax.text(-105.271, 40.224, ' Lyons', size=8)\n",
    "        # ax.scatter(-105.419, 40.026, c='black', s=8)\n",
    "        # ax.text(-105.419, 40.026, ' Sugarloaf', size=8)\n",
    "        \n",
    "        gl = ax.gridlines(draw_labels=True, color = 'black', linewidth=0.5)\n",
    "        gl.xlocator = mticker.FixedLocator(np.arange(self.west,self.east+grid_size,grid_size))\n",
    "        gl.ylocator = mticker.FixedLocator(np.arange(self.south,self.north+grid_size,grid_size))\n",
    "        gl.top_labels = False\n",
    "        gl.right_labels = False\n",
    "        \n",
    "        plt.colorbar(mesh, shrink=0.8)\n",
    "        plt.title(str(nc[nctime].data[time_index])[:-16] + ' ' + ncname[:42]);\n",
    "        plt.show()"
   ]
  },
  {
   "cell_type": "code",
   "execution_count": null,
   "id": "336649aa",
   "metadata": {},
   "outputs": [],
   "source": [
    "hr = HRRRCast(40,-105)"
   ]
  },
  {
   "cell_type": "code",
   "execution_count": null,
   "id": "b560425f",
   "metadata": {},
   "outputs": [],
   "source": [
    "hr.update()"
   ]
  },
  {
   "cell_type": "code",
   "execution_count": null,
   "id": "da4f278f",
   "metadata": {},
   "outputs": [],
   "source": [
    "hr.nc"
   ]
  },
  {
   "cell_type": "code",
   "execution_count": null,
   "id": "62750677",
   "metadata": {},
   "outputs": [],
   "source": [
    "hr.var"
   ]
  },
  {
   "cell_type": "code",
   "execution_count": null,
   "id": "3c81cf64",
   "metadata": {},
   "outputs": [],
   "source": [
    "for x in range(18):\n",
    "    hr.forecast(var_index = -2, time_index = x)"
   ]
  },
  {
   "cell_type": "code",
   "execution_count": null,
   "id": "3ef1397f",
   "metadata": {},
   "outputs": [],
   "source": []
  }
 ],
 "metadata": {
  "kernelspec": {
   "display_name": "Python 3",
   "language": "python",
   "name": "python3"
  },
  "language_info": {
   "codemirror_mode": {
    "name": "ipython",
    "version": 3
   },
   "file_extension": ".py",
   "mimetype": "text/x-python",
   "name": "python",
   "nbconvert_exporter": "python",
   "pygments_lexer": "ipython3",
   "version": "3.8.8"
  }
 },
 "nbformat": 4,
 "nbformat_minor": 5
}
