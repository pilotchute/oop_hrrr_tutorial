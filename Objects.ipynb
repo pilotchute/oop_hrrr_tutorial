{
 "cells": [
  {
   "cell_type": "code",
   "execution_count": 1,
   "metadata": {},
   "outputs": [],
   "source": [
    "''' \n",
    "NCAR/UCAR training material\n",
    "Questions? Contact: A. Kootz akootz@ucar.edu\n",
    "'''\n",
    "pass"
   ]
  },
  {
   "cell_type": "code",
   "execution_count": null,
   "metadata": {},
   "outputs": [],
   "source": []
  },
  {
   "cell_type": "code",
   "execution_count": 2,
   "metadata": {},
   "outputs": [
    {
     "data": {
      "text/plain": [
       "' \\nshow motivational example here\\nWhere using an object over just a variable containing data is a good,\\nnumpy arrays, Xarrays are all objects (BUT DO NOT ALWAYS BEHAVE LIKE OBJECTS)\\n\\n'"
      ]
     },
     "execution_count": 2,
     "metadata": {},
     "output_type": "execute_result"
    }
   ],
   "source": [
    "''' \n",
    "show motivational example here\n",
    "Where using an object over just a variable containing data is a good,\n",
    "numpy arrays, Xarrays are all objects (BUT DO NOT ALWAYS BEHAVE LIKE OBJECTS)\n",
    "\n",
    "'''"
   ]
  },
  {
   "cell_type": "code",
   "execution_count": 3,
   "metadata": {},
   "outputs": [
    {
     "data": {
      "text/plain": [
       "\"\\nInto to Objects: \\nclasses in python are Objects\\nObjects are created with the special method '__init__()'\\nObjects can inherit from other objects\\nObjects can have other objects as properties\\n\""
      ]
     },
     "execution_count": 3,
     "metadata": {},
     "output_type": "execute_result"
    }
   ],
   "source": [
    "'''\n",
    "Into to Objects: \n",
    "classes in python are Objects\n",
    "Objects are created with the special method '__init__()'\n",
    "Objects can inherit from other objects\n",
    "Objects can have other objects as properties\n",
    "'''"
   ]
  },
  {
   "cell_type": "code",
   "execution_count": 4,
   "metadata": {},
   "outputs": [],
   "source": [
    "# Terms:\n",
    "\n",
    "# Function, a callable peice of code that usually takes and input and returns an output\n",
    "# example:\n",
    "def function(input):\n",
    "  output = input\n",
    "  return output\n",
    "\n",
    "# Object, a persistent data structure that usually has properties and methods. Python uses the keyword 'class' to define objects.\n",
    "# example:\n",
    "class Object():\n",
    "\n",
    "# Property, a variable associated with an object. if not defined within __init__ the value is available before instantiation.\n",
    "# example:\n",
    "  property = 'some value that exists before instantiation'\n",
    "\n",
    "# Method, similar to functions though they usually modify an object's properties.\n",
    "# example:\n",
    "  def __init__(self): # __init__ is a special method for instantiating Objects.\n",
    "    self.property = 'some default value that exists after instantiation'\n",
    "\n",
    "  def method(self, new_property_value): # methods usually pass in the 'self' keyword, which is a handle to the currently active object\n",
    "    self.property = new_property_value"
   ]
  },
  {
   "cell_type": "code",
   "execution_count": 5,
   "metadata": {},
   "outputs": [
    {
     "name": "stdout",
     "output_type": "stream",
     "text": [
      "some value that exists before instantiation\n",
      "some default value that exists after instantiation\n",
      "we have now changed the property\n",
      "some value that exists before instantiation\n"
     ]
    }
   ],
   "source": [
    "print(Object.property)\n",
    "\n",
    "instance1 = Object() # this creates a new object and implicitly calls __init__(self):\n",
    "print(instance1.property)\n",
    "\n",
    "instance1.method('we have now changed the property')\n",
    "print(instance1.property)\n",
    "\n",
    "print(Object.property)"
   ]
  },
  {
   "cell_type": "code",
   "execution_count": 6,
   "metadata": {},
   "outputs": [
    {
     "data": {
      "text/plain": [
       "'\\nmake a forecast object, with methods for:\\nspecialized forecast, ex: east wind at surface in boulder for paragliding.\\n'"
      ]
     },
     "execution_count": 6,
     "metadata": {},
     "output_type": "execute_result"
    }
   ],
   "source": [
    "'''\n",
    "make a forecast object, with methods for:\n",
    "specialized forecast, ex: east wind at surface in boulder for paragliding.\n",
    "'''\n"
   ]
  },
  {
   "cell_type": "code",
   "execution_count": 11,
   "metadata": {},
   "outputs": [],
   "source": [
    "import cartopy\n",
    "import cartopy.crs as ccrs\n",
    "import matplotlib.pyplot as plt\n",
    "import matplotlib.ticker as mticker\n",
    "import numpy as np\n",
    "from siphon.catalog import get_latest_access_url\n",
    "from siphon.ncss import NCSS\n",
    "import xarray as xr\n",
    "import time\n",
    "\n",
    "class HRRRCast():\n",
    "    def __init__(self, lat, lon):\n",
    "        self.var = [\n",
    "                    'u-component_of_wind_height_above_ground',\n",
    "                    'v-component_of_wind_height_above_ground',\n",
    "                    'Temperature_height_above_ground',\n",
    "                    'u-component_of_wind_isobaric',\n",
    "                    'v-component_of_wind_isobaric',\n",
    "                    'Temperature_isobaric',\n",
    "                    'Geopotential_height_surface',\n",
    "                    'Total_cloud_cover_entire_atmosphere',\n",
    "                    'Convective_available_potential_energy_surface',\n",
    "                    'Hourly_Maximum_of_Upward_Vertical_Velocity_in_the_lowest_400hPa_pressure_difference_layer_1_Hour_Maximum',\n",
    "                    'Surface_lifted_index_isobaric_layer',\n",
    "                    ]\n",
    "        self.north =lat+1\n",
    "        self.south =lat-1\n",
    "        self.east=lon+1\n",
    "        self.west=lon-1\n",
    "        self.latest_access_url = None\n",
    "        self.nc = None\n",
    "    \n",
    "    def update(self):\n",
    "#         latest_access_url = get_latest_access_url(\"http://thredds.ucar.edu/thredds/catalog/grib/NCEP/HRRR/CONUS_2p5km/catalog.xml\", \"NetcdfSubset\")\n",
    "#         if self.latest_access_url == latest_access_url:\n",
    "#             return\n",
    "#         self.latest_access_url = latest_access_url\n",
    "#         ncss = NCSS(latest_access_url)\n",
    "#         query = ncss.query()\n",
    "#         query.accept('netcdf4')\n",
    "#         query.all_times()\n",
    "#         query.lonlat_box(north=self.north, south=self.south, east=self.east, west=self.west)\n",
    "#         query.variables(frozenset(self.var))\n",
    "#         open('temp.nc4', 'wb').write(ncss.get_data_raw(query))\n",
    "        self.nc = xr.load_dataset('temp.nc4')\n",
    "        \n",
    "    def forecast(self, var_index = -1, time_index = 1, barbs = True, streamlines = False, grid_size = 1):\n",
    "        nc = self.nc\n",
    "        var = self.var\n",
    "        nctime = 'time'\n",
    "        ncvar = nc[var[var_index]]\n",
    "        ncname = ncvar.name\n",
    "        \n",
    "        #km to meters conversion\n",
    "        x = ncvar.x.data*1000.\n",
    "        y = ncvar.y.data*1000.\n",
    "                 \n",
    "        grid = nc[ncvar.grid_mapping]\n",
    "        crs = ccrs.LambertConformal(\n",
    "                                    central_longitude=grid.longitude_of_central_meridian, \n",
    "                                    central_latitude=grid.latitude_of_projection_origin, \n",
    "                                    standard_parallels=(grid.latitude_of_projection_origin,grid.standard_parallel), \n",
    "                                    globe=ccrs.Globe(ellipse='sphere', semimajor_axis=grid.earth_radius)\n",
    "                                    )\n",
    "                 \n",
    "        fig = plt.figure(figsize=(10,10), dpi=200)\n",
    "        ax = plt.axes(projection=ccrs.PlateCarree())\n",
    "        mesh = ax.pcolorfast(x,y,ncvar[time_index,::].data.squeeze(), transform=crs, cmap='coolwarm')\n",
    "\n",
    "        #if barbs: ax.barbs(x,y,nc[var[0]][time_index,1,::].data.squeeze(),nc[var[1]][time_index,1,::].data.squeeze(), transform=crs, length=3, linewidth=0.2)\n",
    "        ax.streamplot(x,y,nc[var[0]][time_index,0,::].data.squeeze(),nc[var[1]][time_index,0,::].data.squeeze(), transform=crs, density = 5, color='grey', arrowsize=0.5, linewidth= 0.5)\n",
    "            \n",
    "        ax.scatter(-105.300, 40.056, c='black', s=8)\n",
    "        ax.text(-105.300, 40.056, ' Wonderland', size=8)\n",
    "        ax.scatter(-105.245, 39.737, c='black', s=8)\n",
    "        ax.text(-105.245, 39.737, ' Lookout', size=8)\n",
    "        # ax.scatter(-105.282, 40.133, c='black', s=8)\n",
    "        # ax.text(-105.282, 40.13, ' Altona', size=8)\n",
    "        # ax.scatter(-105.271, 40.224, c='black', s=8)\n",
    "        # ax.text(-105.271, 40.224, ' Lyons', size=8)\n",
    "        # ax.scatter(-105.419, 40.026, c='black', s=8)\n",
    "        # ax.text(-105.419, 40.026, ' Sugarloaf', size=8)\n",
    "        \n",
    "        gl = ax.gridlines(draw_labels=True, color = 'black', linewidth=0.5)\n",
    "        gl.xlocator = mticker.FixedLocator(np.arange(self.west,self.east+grid_size,grid_size))\n",
    "        gl.ylocator = mticker.FixedLocator(np.arange(self.south,self.north+grid_size,grid_size))\n",
    "        gl.top_labels = False\n",
    "        gl.right_labels = False\n",
    "        \n",
    "        plt.xlim([self.west,self.east])\n",
    "        plt.ylim([self.south, self.north])\n",
    "        plt.colorbar(mesh, shrink=0.8)\n",
    "        plt.title(str(nc[nctime].data[time_index])[:-16] + ' ' + ncname[:42]);\n",
    "        plt.show()"
   ]
  },
  {
   "cell_type": "code",
   "execution_count": 8,
   "metadata": {},
   "outputs": [],
   "source": [
    "hr = HRRRCast(40,-105)"
   ]
  },
  {
   "cell_type": "code",
   "execution_count": 9,
   "metadata": {},
   "outputs": [
    {
     "data": {
      "text/plain": [
       "['u-component_of_wind_height_above_ground',\n",
       " 'v-component_of_wind_height_above_ground',\n",
       " 'Temperature_height_above_ground',\n",
       " 'u-component_of_wind_isobaric',\n",
       " 'v-component_of_wind_isobaric',\n",
       " 'Temperature_isobaric',\n",
       " 'Geopotential_height_surface',\n",
       " 'Total_cloud_cover_entire_atmosphere',\n",
       " 'Convective_available_potential_energy_surface',\n",
       " 'Hourly_Maximum_of_Upward_Vertical_Velocity_in_the_lowest_400hPa_pressure_difference_layer_1_Hour_Maximum',\n",
       " 'Surface_lifted_index_isobaric_layer']"
      ]
     },
     "execution_count": 9,
     "metadata": {},
     "output_type": "execute_result"
    }
   ],
   "source": [
    "hr.update()\n",
    "hr.var"
   ]
  },
  {
   "cell_type": "code",
   "execution_count": 10,
   "metadata": {},
   "outputs": [
    {
     "name": "stderr",
     "output_type": "stream",
     "text": [
      "/Users/akootz/.conda/envs/oop_tutorial/lib/python3.8/site-packages/cartopy/vector_transform.py:62: RuntimeWarning: divide by zero encountered in true_divide\n",
      "  points = np.column_stack([(x.ravel() - x0) / xr, (y.ravel() - y0) / yr])\n"
     ]
    },
    {
     "ename": "QhullError",
     "evalue": "QH6019 qhull input error (qh_scalelast): can not scale last coordinate to [   0,  inf].  Input is cocircular or cospherical.   Use option 'Qz' to add a point at infinity.\n\nWhile executing:  | qhull d Q12 Qt Qz Qbb Qc\nOptions selected for Qhull 2019.1.r 2019/06/21:\n  run-id 795504916  delaunay  Q12-allow-wide  Qtriangulate  Qz-infinity-point\n  Qbbound-last  Qcoplanar-keep  _pre-merge  _zero-centrum  Qinterior-keep\n  Pgood  _maxoutside  0\n",
     "output_type": "error",
     "traceback": [
      "\u001b[0;31m---------------------------------------------------------------------------\u001b[0m",
      "\u001b[0;31mQhullError\u001b[0m                                Traceback (most recent call last)",
      "\u001b[0;32m<ipython-input-10-53447957f4e6>\u001b[0m in \u001b[0;36m<module>\u001b[0;34m\u001b[0m\n\u001b[0;32m----> 1\u001b[0;31m \u001b[0mhr\u001b[0m\u001b[0;34m.\u001b[0m\u001b[0mforecast\u001b[0m\u001b[0;34m(\u001b[0m\u001b[0mvar_index\u001b[0m \u001b[0;34m=\u001b[0m \u001b[0;34m-\u001b[0m\u001b[0;36m1\u001b[0m\u001b[0;34m)\u001b[0m\u001b[0;34m\u001b[0m\u001b[0;34m\u001b[0m\u001b[0m\n\u001b[0m",
      "\u001b[0;32m<ipython-input-7-93be06ac8a32>\u001b[0m in \u001b[0;36mforecast\u001b[0;34m(self, var_index, time_index, barbs, streamlines, grid_size)\u001b[0m\n\u001b[1;32m     69\u001b[0m \u001b[0;34m\u001b[0m\u001b[0m\n\u001b[1;32m     70\u001b[0m         \u001b[0;31m#if barbs: ax.barbs(x,y,nc[var[0]][time_index,1,::].data.squeeze(),nc[var[1]][time_index,1,::].data.squeeze(), transform=crs, length=3, linewidth=0.2)\u001b[0m\u001b[0;34m\u001b[0m\u001b[0;34m\u001b[0m\u001b[0;34m\u001b[0m\u001b[0m\n\u001b[0;32m---> 71\u001b[0;31m         \u001b[0max\u001b[0m\u001b[0;34m.\u001b[0m\u001b[0mstreamplot\u001b[0m\u001b[0;34m(\u001b[0m\u001b[0mx\u001b[0m\u001b[0;34m,\u001b[0m\u001b[0my\u001b[0m\u001b[0;34m,\u001b[0m\u001b[0mnc\u001b[0m\u001b[0;34m[\u001b[0m\u001b[0mvar\u001b[0m\u001b[0;34m[\u001b[0m\u001b[0;36m0\u001b[0m\u001b[0;34m]\u001b[0m\u001b[0;34m]\u001b[0m\u001b[0;34m[\u001b[0m\u001b[0mtime_index\u001b[0m\u001b[0;34m,\u001b[0m\u001b[0;36m0\u001b[0m\u001b[0;34m,\u001b[0m\u001b[0;34m:\u001b[0m\u001b[0;34m:\u001b[0m\u001b[0;34m]\u001b[0m\u001b[0;34m.\u001b[0m\u001b[0mdata\u001b[0m\u001b[0;34m.\u001b[0m\u001b[0msqueeze\u001b[0m\u001b[0;34m(\u001b[0m\u001b[0;34m)\u001b[0m\u001b[0;34m,\u001b[0m\u001b[0mnc\u001b[0m\u001b[0;34m[\u001b[0m\u001b[0mvar\u001b[0m\u001b[0;34m[\u001b[0m\u001b[0;36m1\u001b[0m\u001b[0;34m]\u001b[0m\u001b[0;34m]\u001b[0m\u001b[0;34m[\u001b[0m\u001b[0mtime_index\u001b[0m\u001b[0;34m,\u001b[0m\u001b[0;36m0\u001b[0m\u001b[0;34m,\u001b[0m\u001b[0;34m:\u001b[0m\u001b[0;34m:\u001b[0m\u001b[0;34m]\u001b[0m\u001b[0;34m.\u001b[0m\u001b[0mdata\u001b[0m\u001b[0;34m.\u001b[0m\u001b[0msqueeze\u001b[0m\u001b[0;34m(\u001b[0m\u001b[0;34m)\u001b[0m\u001b[0;34m,\u001b[0m \u001b[0mtransform\u001b[0m\u001b[0;34m=\u001b[0m\u001b[0mcrs\u001b[0m\u001b[0;34m,\u001b[0m \u001b[0mdensity\u001b[0m \u001b[0;34m=\u001b[0m \u001b[0;36m5\u001b[0m\u001b[0;34m,\u001b[0m \u001b[0mcolor\u001b[0m\u001b[0;34m=\u001b[0m\u001b[0;34m'grey'\u001b[0m\u001b[0;34m,\u001b[0m \u001b[0marrowsize\u001b[0m\u001b[0;34m=\u001b[0m\u001b[0;36m0.5\u001b[0m\u001b[0;34m,\u001b[0m \u001b[0mlinewidth\u001b[0m\u001b[0;34m=\u001b[0m \u001b[0;36m0.5\u001b[0m\u001b[0;34m)\u001b[0m\u001b[0;34m\u001b[0m\u001b[0;34m\u001b[0m\u001b[0m\n\u001b[0m\u001b[1;32m     72\u001b[0m \u001b[0;34m\u001b[0m\u001b[0m\n\u001b[1;32m     73\u001b[0m         \u001b[0max\u001b[0m\u001b[0;34m.\u001b[0m\u001b[0mscatter\u001b[0m\u001b[0;34m(\u001b[0m\u001b[0;34m-\u001b[0m\u001b[0;36m105.300\u001b[0m\u001b[0;34m,\u001b[0m \u001b[0;36m40.056\u001b[0m\u001b[0;34m,\u001b[0m \u001b[0mc\u001b[0m\u001b[0;34m=\u001b[0m\u001b[0;34m'black'\u001b[0m\u001b[0;34m,\u001b[0m \u001b[0ms\u001b[0m\u001b[0;34m=\u001b[0m\u001b[0;36m8\u001b[0m\u001b[0;34m)\u001b[0m\u001b[0;34m\u001b[0m\u001b[0;34m\u001b[0m\u001b[0m\n",
      "\u001b[0;32m~/.conda/envs/oop_tutorial/lib/python3.8/site-packages/cartopy/mpl/geoaxes.py\u001b[0m in \u001b[0;36mwrapper\u001b[0;34m(self, *args, **kwargs)\u001b[0m\n\u001b[1;32m    308\u001b[0m \u001b[0;34m\u001b[0m\u001b[0m\n\u001b[1;32m    309\u001b[0m         \u001b[0mkwargs\u001b[0m\u001b[0;34m[\u001b[0m\u001b[0;34m'transform'\u001b[0m\u001b[0;34m]\u001b[0m \u001b[0;34m=\u001b[0m \u001b[0mtransform\u001b[0m\u001b[0;34m\u001b[0m\u001b[0;34m\u001b[0m\u001b[0m\n\u001b[0;32m--> 310\u001b[0;31m         \u001b[0;32mreturn\u001b[0m \u001b[0mfunc\u001b[0m\u001b[0;34m(\u001b[0m\u001b[0mself\u001b[0m\u001b[0;34m,\u001b[0m \u001b[0;34m*\u001b[0m\u001b[0margs\u001b[0m\u001b[0;34m,\u001b[0m \u001b[0;34m**\u001b[0m\u001b[0mkwargs\u001b[0m\u001b[0;34m)\u001b[0m\u001b[0;34m\u001b[0m\u001b[0;34m\u001b[0m\u001b[0m\n\u001b[0m\u001b[1;32m    311\u001b[0m     \u001b[0;32mreturn\u001b[0m \u001b[0mwrapper\u001b[0m\u001b[0;34m\u001b[0m\u001b[0;34m\u001b[0m\u001b[0m\n\u001b[1;32m    312\u001b[0m \u001b[0;34m\u001b[0m\u001b[0m\n",
      "\u001b[0;32m~/.conda/envs/oop_tutorial/lib/python3.8/site-packages/cartopy/mpl/geoaxes.py\u001b[0m in \u001b[0;36mstreamplot\u001b[0;34m(self, x, y, u, v, **kwargs)\u001b[0m\n\u001b[1;32m   1969\u001b[0m         \u001b[0;31m# Do the regridding including any scalar fields.\u001b[0m\u001b[0;34m\u001b[0m\u001b[0;34m\u001b[0m\u001b[0;34m\u001b[0m\u001b[0m\n\u001b[1;32m   1970\u001b[0m         \u001b[0mtarget_extent\u001b[0m \u001b[0;34m=\u001b[0m \u001b[0mself\u001b[0m\u001b[0;34m.\u001b[0m\u001b[0mget_extent\u001b[0m\u001b[0;34m(\u001b[0m\u001b[0mself\u001b[0m\u001b[0;34m.\u001b[0m\u001b[0mprojection\u001b[0m\u001b[0;34m)\u001b[0m\u001b[0;34m\u001b[0m\u001b[0;34m\u001b[0m\u001b[0m\n\u001b[0;32m-> 1971\u001b[0;31m         gridded = vector_scalar_to_grid(t, self.projection, regrid_shape,\n\u001b[0m\u001b[1;32m   1972\u001b[0m                                         \u001b[0mx\u001b[0m\u001b[0;34m,\u001b[0m \u001b[0my\u001b[0m\u001b[0;34m,\u001b[0m \u001b[0mu\u001b[0m\u001b[0;34m,\u001b[0m \u001b[0mv\u001b[0m\u001b[0;34m,\u001b[0m \u001b[0;34m*\u001b[0m\u001b[0mscalars\u001b[0m\u001b[0;34m,\u001b[0m\u001b[0;34m\u001b[0m\u001b[0;34m\u001b[0m\u001b[0m\n\u001b[1;32m   1973\u001b[0m                                         target_extent=target_extent)\n",
      "\u001b[0;32m~/.conda/envs/oop_tutorial/lib/python3.8/site-packages/cartopy/vector_transform.py\u001b[0m in \u001b[0;36mvector_scalar_to_grid\u001b[0;34m(src_crs, target_proj, regrid_shape, x, y, u, v, *scalars, **kwargs)\u001b[0m\n\u001b[1;32m    144\u001b[0m     \u001b[0;31m# Now interpolate to a regular grid in projection space, treating each\u001b[0m\u001b[0;34m\u001b[0m\u001b[0;34m\u001b[0m\u001b[0;34m\u001b[0m\u001b[0m\n\u001b[1;32m    145\u001b[0m     \u001b[0;31m# component as a scalar field.\u001b[0m\u001b[0;34m\u001b[0m\u001b[0;34m\u001b[0m\u001b[0;34m\u001b[0m\u001b[0m\n\u001b[0;32m--> 146\u001b[0;31m     \u001b[0;32mreturn\u001b[0m \u001b[0m_interpolate_to_grid\u001b[0m\u001b[0;34m(\u001b[0m\u001b[0mnx\u001b[0m\u001b[0;34m,\u001b[0m \u001b[0mny\u001b[0m\u001b[0;34m,\u001b[0m \u001b[0mx\u001b[0m\u001b[0;34m,\u001b[0m \u001b[0my\u001b[0m\u001b[0;34m,\u001b[0m \u001b[0mu\u001b[0m\u001b[0;34m,\u001b[0m \u001b[0mv\u001b[0m\u001b[0;34m,\u001b[0m \u001b[0;34m*\u001b[0m\u001b[0mscalars\u001b[0m\u001b[0;34m,\u001b[0m \u001b[0;34m**\u001b[0m\u001b[0mkwargs\u001b[0m\u001b[0;34m)\u001b[0m\u001b[0;34m\u001b[0m\u001b[0;34m\u001b[0m\u001b[0m\n\u001b[0m",
      "\u001b[0;32m~/.conda/envs/oop_tutorial/lib/python3.8/site-packages/cartopy/vector_transform.py\u001b[0m in \u001b[0;36m_interpolate_to_grid\u001b[0;34m(nx, ny, x, y, *scalars, **kwargs)\u001b[0m\n\u001b[1;32m     65\u001b[0m     \u001b[0ms_grid_tuple\u001b[0m \u001b[0;34m=\u001b[0m \u001b[0mtuple\u001b[0m\u001b[0;34m(\u001b[0m\u001b[0;34m)\u001b[0m\u001b[0;34m\u001b[0m\u001b[0;34m\u001b[0m\u001b[0m\n\u001b[1;32m     66\u001b[0m     \u001b[0;32mfor\u001b[0m \u001b[0ms\u001b[0m \u001b[0;32min\u001b[0m \u001b[0mscalars\u001b[0m\u001b[0;34m:\u001b[0m\u001b[0;34m\u001b[0m\u001b[0;34m\u001b[0m\u001b[0m\n\u001b[0;32m---> 67\u001b[0;31m         s_grid_tuple += (griddata(points, s.ravel(), (x_grid, y_grid),\n\u001b[0m\u001b[1;32m     68\u001b[0m                                   method='linear'),)\n\u001b[1;32m     69\u001b[0m     \u001b[0;32mreturn\u001b[0m \u001b[0;34m(\u001b[0m\u001b[0mx_grid\u001b[0m \u001b[0;34m*\u001b[0m \u001b[0mxr\u001b[0m \u001b[0;34m+\u001b[0m \u001b[0mx0\u001b[0m\u001b[0;34m,\u001b[0m \u001b[0my_grid\u001b[0m \u001b[0;34m*\u001b[0m \u001b[0myr\u001b[0m \u001b[0;34m+\u001b[0m \u001b[0my0\u001b[0m\u001b[0;34m)\u001b[0m \u001b[0;34m+\u001b[0m \u001b[0ms_grid_tuple\u001b[0m\u001b[0;34m\u001b[0m\u001b[0;34m\u001b[0m\u001b[0m\n",
      "\u001b[0;32m~/.conda/envs/oop_tutorial/lib/python3.8/site-packages/scipy/interpolate/ndgriddata.py\u001b[0m in \u001b[0;36mgriddata\u001b[0;34m(points, values, xi, method, fill_value, rescale)\u001b[0m\n\u001b[1;32m    258\u001b[0m         \u001b[0;32mreturn\u001b[0m \u001b[0mip\u001b[0m\u001b[0;34m(\u001b[0m\u001b[0mxi\u001b[0m\u001b[0;34m)\u001b[0m\u001b[0;34m\u001b[0m\u001b[0;34m\u001b[0m\u001b[0m\n\u001b[1;32m    259\u001b[0m     \u001b[0;32melif\u001b[0m \u001b[0mmethod\u001b[0m \u001b[0;34m==\u001b[0m \u001b[0;34m'linear'\u001b[0m\u001b[0;34m:\u001b[0m\u001b[0;34m\u001b[0m\u001b[0;34m\u001b[0m\u001b[0m\n\u001b[0;32m--> 260\u001b[0;31m         ip = LinearNDInterpolator(points, values, fill_value=fill_value,\n\u001b[0m\u001b[1;32m    261\u001b[0m                                   rescale=rescale)\n\u001b[1;32m    262\u001b[0m         \u001b[0;32mreturn\u001b[0m \u001b[0mip\u001b[0m\u001b[0;34m(\u001b[0m\u001b[0mxi\u001b[0m\u001b[0;34m)\u001b[0m\u001b[0;34m\u001b[0m\u001b[0;34m\u001b[0m\u001b[0m\n",
      "\u001b[0;32minterpnd.pyx\u001b[0m in \u001b[0;36mscipy.interpolate.interpnd.LinearNDInterpolator.__init__\u001b[0;34m()\u001b[0m\n",
      "\u001b[0;32mqhull.pyx\u001b[0m in \u001b[0;36mscipy.spatial.qhull.Delaunay.__init__\u001b[0;34m()\u001b[0m\n",
      "\u001b[0;32mqhull.pyx\u001b[0m in \u001b[0;36mscipy.spatial.qhull._Qhull.__init__\u001b[0;34m()\u001b[0m\n",
      "\u001b[0;31mQhullError\u001b[0m: QH6019 qhull input error (qh_scalelast): can not scale last coordinate to [   0,  inf].  Input is cocircular or cospherical.   Use option 'Qz' to add a point at infinity.\n\nWhile executing:  | qhull d Q12 Qt Qz Qbb Qc\nOptions selected for Qhull 2019.1.r 2019/06/21:\n  run-id 795504916  delaunay  Q12-allow-wide  Qtriangulate  Qz-infinity-point\n  Qbbound-last  Qcoplanar-keep  _pre-merge  _zero-centrum  Qinterior-keep\n  Pgood  _maxoutside  0\n"
     ]
    },
    {
     "data": {
      "image/png": "[encoded data removed]",
      "text/plain": [
       "<Figure size 2000x2000 with 1 Axes>"
      ]
     },
     "metadata": {
      "needs_background": "light"
     },
     "output_type": "display_data"
    }
   ],
   "source": [
    "hr.forecast(var_index = -1)"
   ]
  },
  {
   "cell_type": "code",
   "execution_count": null,
   "metadata": {},
   "outputs": [],
   "source": []
  }
 ],
 "metadata": {
  "kernelspec": {
   "display_name": "Python 3",
   "language": "python",
   "name": "python3"
  },
  "language_info": {
   "codemirror_mode": {
    "name": "ipython",
    "version": 3
   },
   "file_extension": ".py",
   "mimetype": "text/x-python",
   "name": "python",
   "nbconvert_exporter": "python",
   "pygments_lexer": "ipython3",
   "version": "3.8.8"
  }
 },
 "nbformat": 4,
 "nbformat_minor": 4
}
